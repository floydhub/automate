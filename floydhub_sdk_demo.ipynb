{
 "cells": [
  {
   "cell_type": "markdown",
   "metadata": {},
   "source": [
    "# FloydHub SDK Demo\n",
    "\n",
    "This notebook shows how to use the Floyd SDK to automate your FloydHub workflow. You can do all the operations you perform on the cli programatically using the Python SDK. In fact the cli itself uses the sdk to communicate with the FloydHub server. Use pip to install the sdk.\n",
    "\n",
    "The best way to execute this notebook is to create a new directory and copy this notebook in to that directory. Then populate the current directory with some files."
   ]
  },
  {
   "cell_type": "code",
   "execution_count": null,
   "metadata": {},
   "outputs": [],
   "source": [
    "# Install sdk\n",
    "!pip install -q floyd-cli\n",
    "\n",
    "# Create some files for testing purposes\n",
    "!echo \"hello\" > ./hello.txt\n",
    "!echo \"print (\\\"Hello world\\\")\" > ./hello_world.py"
   ]
  },
  {
   "cell_type": "markdown",
   "metadata": {},
   "source": [
    "# Authentication with username / password\n",
    "\n",
    "First step is to authenticate yourselves against the FloydHub server. You can use your username / password combo to get an access token from the server.\n",
    "\n",
    "The token is saved by the AuthConfigManager and automatically accessed in subsequent sdk calls. The path where this token is stored is `~/.floydconfig`"
   ]
  },
  {
   "cell_type": "code",
   "execution_count": null,
   "metadata": {},
   "outputs": [],
   "source": [
    "from floyd.client.auth import AuthClient\n",
    "from floyd.log import configure_logger\n",
    "from floyd.model.access_token import AccessToken\n",
    "from floyd.model.credentials import Credentials\n",
    "from floyd.manager.auth_config import AuthConfigManager\n",
    "\n",
    "# Initialize logger\n",
    "configure_logger(verbose=False)\n",
    "\n",
    "# Login using credentials (replace with your credentials)\n",
    "login_credentials = Credentials(username=\"your_username\", password=\"your_password\")\n",
    "access_code = AuthClient().login(login_credentials)\n",
    "user = AuthClient().get_user(access_code)\n",
    "access_token = AccessToken(username=user.username,\n",
    "                           token=access_code)\n",
    "\n",
    "# Auth token is stored and automatically used in subsequent sdk calls\n",
    "AuthConfigManager.set_access_token(access_token)"
   ]
  },
  {
   "cell_type": "markdown",
   "metadata": {},
   "source": [
    "# Authentication with API Key\n",
    "\n",
    "Alternatively, you can get an api key for your account at https://www.floydhub.com/settings/apikey. You can set the expiration of the key and use it for authentication."
   ]
  },
  {
   "cell_type": "code",
   "execution_count": null,
   "metadata": {},
   "outputs": [],
   "source": [
    "AuthConfigManager.set_apikey(username=\"your_username\", apikey=\"apikey_from_floydhub\")"
   ]
  },
  {
   "cell_type": "markdown",
   "metadata": {},
   "source": [
    "# Data\n",
    "\n",
    "FloydHub manages data separately from code. You need to create a dataset directly from the [website](https://www.floydhub.com/datasets/create). Then use the dataset name in the section below to upload the contents of the current directory to FloydHub as a dataset. You will later mount this data into a job."
   ]
  },
  {
   "cell_type": "code",
   "execution_count": 1,
   "metadata": {},
   "outputs": [
    {
     "name": "stderr",
     "output_type": "stream",
     "text": [
      "Waiting for unpack....\n"
     ]
    }
   ],
   "source": [
    "from floyd.client.data import DataClient\n",
    "from floyd.client.dataset import DatasetClient\n",
    "from floyd.manager.auth_config import AuthConfigManager\n",
    "from floyd.manager.data_config import DataConfig\n",
    "from floyd.cli.data_upload_utils import initialize_new_upload, complete_upload\n",
    "from floyd.cli.utils import get_namespace_from_name\n",
    "\n",
    "# Get access token from the stored config file\n",
    "# Or re-authenticate from the previous step\n",
    "access_token = AuthConfigManager.get_access_token()\n",
    "\n",
    "# Replace with your dataset name\n",
    "dataset_name = \"floydlabs/test11\"\n",
    "dataset = DatasetClient().get_by_name(dataset_name)\n",
    "\n",
    "namespace, name = get_namespace_from_name(dataset_name)\n",
    "data_config = DataConfig(name=name,\n",
    "                         namespace=namespace,\n",
    "                         family_id=dataset.id)\n",
    "\n",
    "# This is the actual upload step\n",
    "initialize_new_upload(data_config, access_token, \"new upload\")\n",
    "complete_upload(data_config)"
   ]
  },
  {
   "cell_type": "code",
   "execution_count": 2,
   "metadata": {},
   "outputs": [],
   "source": [
    "from floyd.manager.data_config import DataConfigManager\n",
    "from floyd.cli.utils import normalize_data_name\n",
    "\n",
    "# Get the uploaded data name\n",
    "data_config = DataConfigManager.get_config()\n",
    "data_name = normalize_data_name(data_config.data_name)"
   ]
  },
  {
   "cell_type": "markdown",
   "metadata": {},
   "source": [
    "## Dataset info & status\n",
    "\n",
    "We can retrieve the name and info of the datasets we have uploaded. "
   ]
  },
  {
   "cell_type": "code",
   "execution_count": 3,
   "metadata": {},
   "outputs": [
    {
     "name": "stdout",
     "output_type": "stream",
     "text": [
      "DATA NAME                     CREATED         STATUS    DISK USAGE\n",
      "----------------------------  --------------  --------  ------------\n",
      "floydlabs/datasets/test11/22  13 seconds ago  valid     341.0 KB\n",
      "floydlabs/datasets/test11/18  1 months ago    valid     53.0 KB\n",
      "floydlabs/datasets/test11/17  4 months ago    valid     11.18 MB\n",
      "floydlabs/datasets/test11/15  7 months ago    valid     795.42 MB\n",
      "floydlabs/datasets/test11/14  7 months ago    valid     795.47 MB\n",
      "floydlabs/datasets/test11/13  7 months ago    valid     795.46 MB\n",
      "floydlabs/datasets/test11/12  7 months ago    valid     795.4 MB\n",
      "floydlabs/datasets/test11/11  8 months ago    valid     769.06 MB\n",
      "floydlabs/datasets/test11/8   8 months ago    valid     278.07 MB\n",
      "floydlabs/datasets/test11/9   8 months ago    valid     278.07 MB\n",
      "floydlabs/datasets/test11/10  8 months ago    valid     62.77 MB\n",
      "floydlabs/datasets/test11/7   8 months ago    valid     20.0 KB\n",
      "floydlabs/datasets/test11/6   10 months ago   valid     40.0 KB\n",
      "floydlabs/datasets/test11/5   10 months ago   valid     40.0 KB\n",
      "floydlabs/datasets/test11/4   10 months ago   valid     10.0 KB\n",
      "floydlabs/datasets/test11/3   10 months ago   valid     10.0 KB\n",
      "floydlabs/datasets/test11/2   1 years ago     valid     10.0 KB\n",
      "floydlabs/datasets/test11/1   1 years ago     valid     10.0 KB\n"
     ]
    }
   ],
   "source": [
    "from floyd.cli.data import get_data_object\n",
    "from floyd.client.data import DataClient\n",
    "from tabulate import tabulate\n",
    "\n",
    "def print_data(data_sources):\n",
    "    \"\"\"\n",
    "    Print dataset information in tabular form\n",
    "    \"\"\"\n",
    "    if not data_sources:\n",
    "        return\n",
    "\n",
    "    headers = [\"DATA NAME\", \"CREATED\", \"STATUS\", \"DISK USAGE\"]\n",
    "    data_list = []\n",
    "    for data_source in data_sources:\n",
    "        data_list.append([data_source.name,\n",
    "                          data_source.created_pretty,\n",
    "                          data_source.state, data_source.size])\n",
    "    print(tabulate(data_list, headers=headers))\n",
    "\n",
    "# This will retrieve the info for all the datasets under floydlabs/test11\n",
    "data_sources = DataClient().get_all()\n",
    "print_data(data_sources)"
   ]
  },
  {
   "cell_type": "code",
   "execution_count": 4,
   "metadata": {},
   "outputs": [
    {
     "name": "stdout",
     "output_type": "stream",
     "text": [
      "DATA NAME                     CREATED         STATUS    DISK USAGE\n",
      "----------------------------  --------------  --------  ------------\n",
      "floydlabs/datasets/test11/22  17 seconds ago  valid     341.0 KB\n"
     ]
    }
   ],
   "source": [
    "# or we can get the status of a single entry\n",
    "dataset_name = \"floydlabs/test11\"\n",
    "\n",
    "data_source = get_data_object(dataset_name, use_data_config=False)\n",
    "print_data([data_source] if data_source else [])"
   ]
  },
  {
   "cell_type": "markdown",
   "metadata": {},
   "source": [
    "## Delete a dataset version\n",
    "\n",
    "You can easily delete the dataset version[s]. Please, be careful with this! Expecially if you are automataizing this process."
   ]
  },
  {
   "cell_type": "code",
   "execution_count": 5,
   "metadata": {},
   "outputs": [
    {
     "name": "stdout",
     "output_type": "stream",
     "text": [
      "Data Deleted:  floydlabs/datasets/test11/22\n"
     ]
    }
   ],
   "source": [
    "# We will remove the last dataset version we have just created\n",
    "dataset_to_remove = 'floydlabs/datasets/test11/22'\n",
    "\n",
    "data_source = get_data_object(dataset_to_remove, use_data_config=True)\n",
    "if not DataClient().delete(data_source.id):\n",
    "    print(\"Error!\")\n",
    "else:\n",
    "    print(\"Data Deleted: \", dataset_to_remove)"
   ]
  },
  {
   "cell_type": "markdown",
   "metadata": {},
   "source": [
    "# Job\n",
    "\n",
    "You can kick off a training job, monitor it and download the output all using the sdk. The next section shows how to run a job under a specific project. Create the project from the FloydHub [website](https://www.floydhub.com/projects/create) and use the project name in the next section."
   ]
  },
  {
   "cell_type": "code",
   "execution_count": null,
   "metadata": {},
   "outputs": [],
   "source": [
    "from floyd.client.project import ProjectClient\n",
    "from floyd.manager.experiment_config import ExperimentConfigManager\n",
    "from floyd.manager.floyd_ignore import FloydIgnoreManager\n",
    "from floyd.model.experiment_config import ExperimentConfig\n",
    "from floyd.cli.utils import get_namespace_from_name\n",
    "\n",
    "# Replace with your project name\n",
    "project_name = \"floydlabs/private-proj\"\n",
    "project = ProjectClient().get_by_name(project_name)\n",
    "\n",
    "namespace, name = get_namespace_from_name(project_name)\n",
    "experiment_config = ExperimentConfig(name=name,\n",
    "                                     namespace=namespace,\n",
    "                                     family_id=project.id)\n",
    "ExperimentConfigManager.set_config(experiment_config)\n",
    "FloydIgnoreManager.init()"
   ]
  },
  {
   "cell_type": "markdown",
   "metadata": {},
   "source": [
    "# Mounting Data\n",
    "\n",
    "You can mount any data on FloydHub (that you have access to) in to your job at the path you specify. In this case we are mounting the dataset we created above and mounting it at `/training` path. You also need to specify the floydhub instance type and the [environment](https://docs.floydhub.com/guides/environments/) you want to use.\n",
    "\n",
    "Running a job is currently two step process - you first need to upload the code and then run the experiment (or job)."
   ]
  },
  {
   "cell_type": "code",
   "execution_count": 9,
   "metadata": {},
   "outputs": [
    {
     "name": "stdout",
     "output_type": "stream",
     "text": [
      "Creating project run. Total upload size: 29.3KiB\n",
      "Syncing code ...\n"
     ]
    }
   ],
   "source": [
    "from floyd.client.experiment import ExperimentClient\n",
    "from floyd.client.module import ModuleClient\n",
    "from floyd.constants import INSTANCE_ARCH_MAP\n",
    "from floyd.model.experiment import ExperimentRequest\n",
    "from floyd.model.module import Module\n",
    "\n",
    "# Run a job\n",
    "# Get the data mount id (data_name comes from the previous step)\n",
    "data_obj = DataClient().get(normalize_data_name(data_name))\n",
    "data_ids = [\"{}:{}\".format(data_obj.id, \"/training\")]\n",
    "\n",
    "# Define the data mount point for data\n",
    "module_inputs = {\n",
    "    \"name\": \"/training\",\n",
    "    \"type\": \"dir\" # Always use dir here\n",
    "}\n",
    "    \n",
    "# First create a module and then use it in the experiment create step\n",
    "\n",
    "experiment_name = project_name\n",
    "instance_type = \"c1\" # You can use c1 for cpu, c2 for cpu2, g1 for gpu and g2 for gpu2\n",
    "project_id = project.id\n",
    "\n",
    "# Get env value\n",
    "arch = INSTANCE_ARCH_MAP[instance_type]\n",
    "env = \"tensorflow-1.5\"  # Choose env that you need\n",
    "\n",
    "module = Module(name=experiment_name,\n",
    "                description='foo',\n",
    "                command=\"ls /training\",\n",
    "                mode='command',\n",
    "                family_id=project_id,\n",
    "                inputs=module_inputs,\n",
    "                env=env,\n",
    "                arch=arch)\n",
    "\n",
    "module_id = ModuleClient().create(module)\n",
    "    \n",
    "experiment_request = ExperimentRequest(name=experiment_name,\n",
    "                                       description='foo',\n",
    "                                       full_command='ls /training',\n",
    "                                       module_id=module_id,\n",
    "                                       env=env,\n",
    "                                       data_ids=data_ids,\n",
    "                                       family_id=project_id,\n",
    "                                       instance_type=instance_type)\n",
    "expt_info = ExperimentClient().create(experiment_request)"
   ]
  },
  {
   "cell_type": "markdown",
   "metadata": {},
   "source": [
    "# Tracking an experiment\n",
    "\n",
    "You can track an experiment periodically and wait for it to finish. You can also setup a [notification webhook](https://docs.floydhub.com/guides/notifications/) and get notified when jobs finish. You can also programatically download the output of your training job."
   ]
  },
  {
   "cell_type": "code",
   "execution_count": 12,
   "metadata": {},
   "outputs": [
    {
     "name": "stdout",
     "output_type": "stream",
     "text": [
      "success\n"
     ]
    }
   ],
   "source": [
    "from floyd.client.experiment import ExperimentClient\n",
    "from floyd.client.resource import ResourceClient\n",
    "\n",
    "# Track experiment\n",
    "job_id = expt_info['id']\n",
    "experiment = ExperimentClient().get(job_id)\n",
    "print(experiment.state)\n",
    "\n",
    "# Stop running job (works only if the job is queued or running)\n",
    "# ExperimentClient().stop(job_id)"
   ]
  },
  {
   "cell_type": "code",
   "execution_count": 14,
   "metadata": {},
   "outputs": [
    {
     "name": "stdout",
     "output_type": "stream",
     "text": [
      "2019-01-15 10:59:43,547 INFO - Preparing to run TaskInstance <TaskInstance: floydlabs/projects/private-proj/95 (id: MojAv2Wf9kGjENAfqhDEUV)\n",
      "2019-01-15 10:59:43,573 INFO - Starting attempt 1\n",
      "2019-01-15 10:59:43,590 INFO - Downloading and setting up data sources\n",
      "2019-01-15 10:59:43,602 INFO - Downloading and mounting training. ETA: 2 seconds\n",
      "2019-01-15 10:59:43,990 INFO - Using Docker image: floydhub/tensorflow:1.5.0-py3_aws.35\n",
      "2019-01-15 10:59:44,121 INFO - Starting container...\n",
      "2019-01-15 10:59:44,329 INFO - \n",
      "################################################################################\n",
      "\n",
      "2019-01-15 10:59:44,330 INFO - Run Output:\n",
      "2019-01-15 10:59:44,344 INFO - Starting services.\n",
      "2019-01-15 10:59:44,493 INFO - demo\n",
      "2019-01-15 10:59:44,493 INFO - floydhub_sdk_demo.ipynb\n",
      "2019-01-15 10:59:44,493 INFO - hello.txt\n",
      "2019-01-15 10:59:44,493 INFO - hello_world.py\n",
      "2019-01-15 10:59:44,545 INFO - \n",
      "################################################################################\n",
      "\n",
      "2019-01-15 10:59:44,546 INFO - Waiting for container to complete...\n",
      "2019-01-15 10:59:44,708 INFO - Persisting outputs...\n",
      "2019-01-15 10:59:45,002 INFO - Creating data module for output...\n",
      "2019-01-15 10:59:45,076 INFO - Data module created for output.\n",
      "2019-01-15 10:59:45,076 INFO - Persisting data in home...\n",
      "2019-01-15 10:59:45,341 INFO - Home data persisted.\n",
      "2019-01-15 10:59:45,341 INFO - [success] Finished execution\n",
      "\n"
     ]
    }
   ],
   "source": [
    "# Get logs\n",
    "log_resource_id = experiment.instance_log_id\n",
    "logs = ResourceClient().get_content(log_resource_id)\n",
    "print(logs)"
   ]
  },
  {
   "cell_type": "code",
   "execution_count": 13,
   "metadata": {},
   "outputs": [
    {
     "name": "stdout",
     "output_type": "stream",
     "text": [
      "Downloading the tar file to the current directory ...\n",
      "Untarring the contents of the file ...\n",
      "Cleaning up the tar file ...\n"
     ]
    },
    {
     "data": {
      "text/plain": [
       "'output.tar'"
      ]
     },
     "execution_count": 13,
     "metadata": {},
     "output_type": "execute_result"
    }
   ],
   "source": [
    "# Download an output model file\n",
    "output_id = experiment.output_id\n",
    "data_url = \"https://www.floydhub.com/api/v1/resources/{}?content=true&download=true\".format(output_id)\n",
    "DataClient().download_tar(url=data_url,\n",
    "                          untar=True,\n",
    "                          delete_after_untar=True)"
   ]
  },
  {
   "cell_type": "code",
   "execution_count": null,
   "metadata": {},
   "outputs": [],
   "source": [
    "## Get detailed info about the experiment by directly parsing the job info json.\n",
    "## Note: Some of these fields are for internal use and can change without warning.\n",
    "\n",
    "from floyd.client.experiment import ExperimentClient\n",
    "\n",
    "ExperimentClient().request(\"GET\", \"/experiments/\" + experiment.id).json()"
   ]
  },
  {
   "cell_type": "markdown",
   "metadata": {},
   "source": [
    "# Support\n",
    "\n",
    "This sdk is in beta. If you have any questions or are interested in adopting this for your workflow, please contact us at support@floydhub.com. We are happy to support you and work with you in automating your training."
   ]
  }
 ],
 "metadata": {
  "kernelspec": {
   "display_name": "Python 3",
   "language": "python",
   "name": "python3"
  },
  "language_info": {
   "codemirror_mode": {
    "name": "ipython",
    "version": 3
   },
   "file_extension": ".py",
   "mimetype": "text/x-python",
   "name": "python",
   "nbconvert_exporter": "python",
   "pygments_lexer": "ipython3",
   "version": "3.6.5"
  }
 },
 "nbformat": 4,
 "nbformat_minor": 2
}
